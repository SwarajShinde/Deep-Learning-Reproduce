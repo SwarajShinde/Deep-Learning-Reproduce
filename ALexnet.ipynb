{
  "nbformat": 4,
  "nbformat_minor": 0,
  "metadata": {
    "colab": {
      "name": "ALexnet.ipynb",
      "provenance": [],
      "collapsed_sections": [],
      "authorship_tag": "ABX9TyNbUmWaegMkgfaALdcklkro",
      "include_colab_link": true
    },
    "kernelspec": {
      "name": "python3",
      "display_name": "Python 3"
    },
    "accelerator": "GPU"
  },
  "cells": [
    {
      "cell_type": "markdown",
      "metadata": {
        "id": "view-in-github",
        "colab_type": "text"
      },
      "source": [
        "<a href=\"https://colab.research.google.com/github/SwarajShinde/Deep-Learning-Reproduce/blob/master/ALexnet.ipynb\" target=\"_parent\"><img src=\"https://colab.research.google.com/assets/colab-badge.svg\" alt=\"Open In Colab\"/></a>"
      ]
    },
    {
      "cell_type": "code",
      "metadata": {
        "id": "FOnMyBs05-AK",
        "colab_type": "code",
        "colab": {}
      },
      "source": [
        "# Alexnet \n",
        "%matplotlib inline\n",
        "import torch\n",
        "import torch.nn as nn\n",
        "import torch.nn.functional as F\n"
      ],
      "execution_count": 82,
      "outputs": []
    },
    {
      "cell_type": "code",
      "metadata": {
        "id": "ditRy3yV7SbP",
        "colab_type": "code",
        "colab": {}
      },
      "source": [
        "class Alexnet(nn.Module):\n",
        "    def __init__(self):\n",
        "        super(Alexnet,self).__init__()\n",
        "        self.conv1 = nn.Conv2d(in_channels=3,out_channels = 96,kernel_size = 11,stride=4,padding=0)\n",
        "        self.conv2 = nn.Conv2d(in_channels=96,out_channels = 256,kernel_size = 5,stride=1,padding=2)\n",
        "        self.conv3 = nn.Conv2d(in_channels=256,out_channels = 384,kernel_size = 3,stride=1,padding=1)\n",
        "        self.conv4 = nn.Conv2d(in_channels=384,out_channels = 256,kernel_size = 3,stride=1,padding=1)\n",
        "        self.pool1 = nn.MaxPool2d(kernel_size=3,stride=2)\n",
        "        self.pool2 = nn.MaxPool2d(kernel_size=3,stride=2)\n",
        "        self.pool3 = nn.MaxPool2d(kernel_size = 3, stride = 2)\n",
        "        self.linear1 = nn.Linear(in_features=9216,out_features = 4096)\n",
        "        self.linear2 = nn.Linear(in_features=4096,out_features=4096)\n",
        "        self.linear3 = nn.Linear(in_features = 4096,out_features = 1000)\n",
        "        self.drop1 = nn.Dropout(0.5)\n",
        "        self.drop2 = nn.Dropout(0.5)\n",
        "    \n",
        "\n",
        "    def forward(self,image):\n",
        "        bs,ch,w,h = image.size()\n",
        "        x= F.relu(self.conv1(image))\n",
        "        #print(x.size())\n",
        "\n",
        "        x=self.pool1(x)\n",
        "        #print(x.size())\n",
        "        x=F.relu(self.conv2(x))\n",
        "        #print(x.size())\n",
        "        x=self.pool2(x)\n",
        "        #print(x.size())\n",
        "        x=F.relu(self.conv3(x))\n",
        "        #print(x.size())\n",
        "        x=F.relu(self.conv4(x))\n",
        "        #print(x.size())\n",
        "        x=self.pool3(x)\n",
        "        #print(x.size())\n",
        "        x=x.view(bs,-1)\n",
        "        #print(x.size(),\"view\")\n",
        "        x=F.relu(self.linear1(x))\n",
        "        x=self.drop1(x)\n",
        "        #print(x.size())\n",
        "        x=F.relu(self.linear2(x))\n",
        "        x=self.drop2(x)\n",
        "        #print(x.size())\n",
        "        x=F.relu(self.linear3(x))\n",
        "        x=torch.softmax(x,axis=1)\n",
        "        print(x.size())\n",
        "        return x"
      ],
      "execution_count": 72,
      "outputs": []
    },
    {
      "cell_type": "code",
      "metadata": {
        "id": "ouyY2BtP8WSw",
        "colab_type": "code",
        "colab": {
          "base_uri": "https://localhost:8080/",
          "height": 34
        },
        "outputId": "ad1d83e4-7db4-463d-89bf-4852d7be924a"
      },
      "source": [
        "#defined the testing image with correct dimensions\n",
        "batch_size = 3\n",
        "image = torch.rand((batch_size,3,227,227))\n",
        "print(image.size())\n"
      ],
      "execution_count": 76,
      "outputs": [
        {
          "output_type": "stream",
          "text": [
            "torch.Size([3, 3, 227, 227])\n"
          ],
          "name": "stdout"
        }
      ]
    },
    {
      "cell_type": "code",
      "metadata": {
        "id": "ttMNfp0iDova",
        "colab_type": "code",
        "colab": {}
      },
      "source": [
        "model = Alexnet()\n"
      ],
      "execution_count": 77,
      "outputs": []
    },
    {
      "cell_type": "code",
      "metadata": {
        "id": "wAc42TyMDpsB",
        "colab_type": "code",
        "colab": {
          "base_uri": "https://localhost:8080/",
          "height": 101
        },
        "outputId": "9df76379-48ac-48d3-b462-da6b18b96347"
      },
      "source": [
        "print(model(image))\n"
      ],
      "execution_count": 79,
      "outputs": [
        {
          "output_type": "stream",
          "text": [
            "torch.Size([3, 1000])\n",
            "tensor([[0.0010, 0.0010, 0.0010,  ..., 0.0010, 0.0010, 0.0010],\n",
            "        [0.0010, 0.0010, 0.0010,  ..., 0.0010, 0.0010, 0.0010],\n",
            "        [0.0010, 0.0010, 0.0010,  ..., 0.0010, 0.0010, 0.0010]],\n",
            "       grad_fn=<SoftmaxBackward>)\n"
          ],
          "name": "stdout"
        }
      ]
    },
    {
      "cell_type": "markdown",
      "metadata": {
        "id": "ohzgB2uYJsFA",
        "colab_type": "text"
      },
      "source": [
        "In this Reproduced AlexNet model we can insert any random image of specific size(bs,ch,width,height) . \n",
        "\n",
        "\n",
        "The output produced will be of size (bs, 1000)\n",
        "1000 classes as of ImageNEt\n"
      ]
    },
    {
      "cell_type": "markdown",
      "metadata": {
        "id": "IzB_qassJWX-",
        "colab_type": "text"
      },
      "source": [
        ""
      ]
    }
  ]
}